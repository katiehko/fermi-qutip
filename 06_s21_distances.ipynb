{
 "cells": [
  {
   "cell_type": "code",
   "execution_count": 1,
   "metadata": {},
   "outputs": [],
   "source": [
    "\"\"\"import packages\"\"\"\n",
    "%matplotlib inline\n",
    "import matplotlib.pyplot as plt\n",
    "import numpy as np\n",
    "from math import pi\n",
    "import functools\n",
    "\n",
    "import tensorflow as tf\n",
    "from tensorflow import keras\n",
    "\n",
    "import xlrd\n",
    "from scipy.io import loadmat\n",
    "import pandas as pd"
   ]
  },
  {
   "cell_type": "code",
   "execution_count": 2,
   "metadata": {},
   "outputs": [],
   "source": [
    "\"\"\"load data files\"\"\"\n",
    "matFile = loadmat('Pappas_Pulsed_pl200_ge_start800_int1us_1kAvg_multishot_3_mag.mat')\n",
    "Data = matFile['Data']\n",
    "\n",
    "vS1File = pd.read_excel('vS1.xlsx', sheet_name='vS1')"
   ]
  },
  {
   "cell_type": "code",
   "execution_count": 3,
   "metadata": {},
   "outputs": [],
   "source": [
    "\"\"\"access columns of VS1 in data set\"\"\"\n",
    "df = pd.DataFrame(vS1File)\n",
    "vS1_list1 = df.columns.tolist()\n",
    "\n",
    "\"\"\"divide VS1 data into x0 (|g>) and x1 (|e>)\"\"\"\n",
    "x0 = []\n",
    "x1 = []\n",
    "for i in range(6700):\n",
    "    x0.append(np.float(vS1_list1[i]))\n",
    "for i in list(range(6700,13400)):\n",
    "    x1.append(np.float(vS1_list1[i]))"
   ]
  },
  {
   "cell_type": "code",
   "execution_count": 4,
   "metadata": {},
   "outputs": [],
   "source": [
    "\"\"\"access cY data and make accessible to plot by pyplot\"\"\"\n",
    "cY_list1 = []\n",
    "for sublist in Data['cY']:\n",
    "    for item in sublist:\n",
    "        cY_list1.append(item)\n",
    "\n",
    "cY_arr = np.array(cY_list1)\n",
    "cY_list2 = cY_arr.tolist()\n",
    "        \n",
    "cY_list3 = []\n",
    "for sublist in cY_list2:\n",
    "    for item in sublist:\n",
    "        cY_list3.append(item)\n",
    "        \n",
    "cY_list4 = []\n",
    "for sublist in cY_list3:\n",
    "    for item in sublist:\n",
    "        cY_list4.append(item)\n",
    "        \n",
    "cY_list5 = []\n",
    "for sublist in cY_list4:\n",
    "    for item in sublist:\n",
    "        cY_list5.append(item)\n",
    "        \n",
    "cY_list6 = []\n",
    "for sublist in cY_list5:\n",
    "    for item in sublist:\n",
    "        cY_list6.append(np.complex(item))"
   ]
  },
  {
   "cell_type": "code",
   "execution_count": 5,
   "metadata": {},
   "outputs": [],
   "source": [
    "\"\"\"append mag, phase, I, Q data into numpy arrays\"\"\"\n",
    "mag0 = []\n",
    "mag1 = []\n",
    "phase0 = []\n",
    "phase1 = []\n",
    "I0 = []\n",
    "I1 = []\n",
    "Q0 = []\n",
    "Q1 = []\n",
    "\n",
    "x0_avg = []\n",
    "mag0_avg = []\n",
    "phase0_avg = []\n",
    "I0_avg = []\n",
    "Q0_avg = []\n",
    "\n",
    "x1_avg = []\n",
    "mag1_avg = []\n",
    "phase1_avg = []\n",
    "I1_avg = []\n",
    "Q1_avg = []\n",
    "\n",
    "for i in range(6700):\n",
    "    mag0.append(abs(cY_list6[i]))\n",
    "    phase0.append(np.angle(cY_list6[i]))\n",
    "    I0.append(np.real(cY_list6[i]))\n",
    "    Q0.append(np.imag(cY_list6[i]))\n",
    "    \n",
    "for j in list(range(0,6700,100)):\n",
    "    x0_avg.append(np.mean(x0[j]))\n",
    "    mag0_avg.append(np.mean(mag0[j]))\n",
    "    phase0_avg.append(np.mean(phase0[j]))\n",
    "    I0_avg.append(np.mean(I0[j]))\n",
    "    Q0_avg.append(np.mean(Q0[j]))\n",
    "    \n",
    "for i in list(range(6700,13400)):\n",
    "    mag1.append(abs(cY_list6[i]))\n",
    "    phase1.append(np.angle(cY_list6[i]))\n",
    "    I1.append(np.real(cY_list6[i]))\n",
    "    Q1.append(np.imag(cY_list6[i]))\n",
    "    \n",
    "for j in list(range(0,6700,100)):\n",
    "    x1_avg.append(np.mean(x1[j]))\n",
    "    mag1_avg.append(np.mean(mag1[j]))\n",
    "    phase1_avg.append(np.mean(phase1[j]))\n",
    "    I1_avg.append(np.mean(I1[j]))\n",
    "    Q1_avg.append(np.mean(Q1[j]))  "
   ]
  },
  {
   "cell_type": "code",
   "execution_count": 12,
   "metadata": {},
   "outputs": [],
   "source": [
    "\"\"\"consolidate the S_{2,1} of the readout resonator\"\"\"\n",
    "i_readout0 = []\n",
    "i_readout1 = []\n",
    "\n",
    "I0_readout = []\n",
    "I1_readout = []\n",
    "Q0_readout = []\n",
    "Q1_readout = []\n",
    "\n",
    "for i in list(range(0,6700)):\n",
    "    \n",
    "    if mag0[i]<=0.0001590 and mag0[i]>=0.0001588:\n",
    "        i_readout0.append(i)\n",
    "        \n",
    "for i in list(range(0,6700)):\n",
    "    \n",
    "    if mag1[i]<=0.0007600 and mag1[i]>=0.0007598:\n",
    "        i_readout1.append(i)\n",
    "        \n",
    "for i in list(range(0,1000)):\n",
    "#for i in list(range(i_readout0[0]-500,i_readout0[0]+500)):\n",
    "        \n",
    "    I0_readout.append(np.real(cY_list6[i]))\n",
    "    Q0_readout.append(np.imag(cY_list6[i]))\n",
    "        \n",
    "for i in list(range(6700+i_readout1[0]-500,6700+i_readout1[0]+500)):\n",
    "    \n",
    "    I1_readout.append(np.real(cY_list6[i]))\n",
    "    Q1_readout.append(np.imag(cY_list6[i]))"
   ]
  },
  {
   "cell_type": "code",
   "execution_count": 13,
   "metadata": {},
   "outputs": [
    {
     "data": {
      "text/plain": [
       "Text(0, 0.5, 'Angle(S$_{2,1}$)')"
      ]
     },
     "execution_count": 13,
     "metadata": {},
     "output_type": "execute_result"
    },
    {
     "data": {
      "image/png": "[encoded data removed]",
      "text/plain": [
       "<Figure size 576x360 with 1 Axes>"
      ]
     },
     "metadata": {
      "needs_background": "light"
     },
     "output_type": "display_data"
    }
   ],
   "source": [
    "fig, ax = plt.subplots(figsize=(8,5))\n",
    "ax.plot(x0_avg,phase0_avg,'b.')\n",
    "ax.plot(x1_avg,phase1_avg,'+',color='orange')\n",
    "\n",
    "ax.plot(x0[i_readout1[0]],phase0[i_readout1[0]],'o',color='red')\n",
    "ax.plot(x1[i_readout1[0]],phase1[i_readout1[0]],'o',color='red')\n",
    "\n",
    "plt.title('Line Shape Phase')\n",
    "plt.xlabel('Detuning')\n",
    "plt.ylabel('Angle(S$_{2,1}$)')"
   ]
  },
  {
   "cell_type": "code",
   "execution_count": 14,
   "metadata": {},
   "outputs": [
    {
     "data": {
      "text/plain": [
       "Text(0, 0.5, '|S$_{2,1}$|')"
      ]
     },
     "execution_count": 14,
     "metadata": {},
     "output_type": "execute_result"
    },
    {
     "data": {
      "image/png": "[encoded data removed]",
      "text/plain": [
       "<Figure size 576x360 with 1 Axes>"
      ]
     },
     "metadata": {
      "needs_background": "light"
     },
     "output_type": "display_data"
    }
   ],
   "source": [
    "fig, ax = plt.subplots(figsize=(8,5))\n",
    "ax.plot(x0_avg,mag0_avg,'b.')\n",
    "ax.plot(x1_avg,mag1_avg,'+',color='orange')\n",
    "\n",
    "ax.plot(x0[i_readout1[0]],mag0[i_readout1[0]],'o',color='red')\n",
    "ax.plot(x1[i_readout1[0]],mag1[i_readout1[0]],'o',color='red')\n",
    "\n",
    "plt.title('Line Shape Magnitude')\n",
    "plt.xlabel('Detuning')\n",
    "plt.ylabel('|S$_{2,1}$|')"
   ]
  },
  {
   "cell_type": "code",
   "execution_count": 41,
   "metadata": {},
   "outputs": [
    {
     "data": {
      "text/plain": [
       "<matplotlib.legend.Legend at 0x1959f2d8588>"
      ]
     },
     "execution_count": 41,
     "metadata": {},
     "output_type": "execute_result"
    },
    {
     "data": {
      "image/png": "[encoded data removed]",
      "text/plain": [
       "<Figure size 360x360 with 1 Axes>"
      ]
     },
     "metadata": {
      "needs_background": "light"
     },
     "output_type": "display_data"
    }
   ],
   "source": [
    "\"\"\"plot IQ plot for S_{2,1}\"\"\"\n",
    "fig, ax = plt.subplots(figsize=(5,5))\n",
    "ax.plot(I0_readout,Q0_readout,'b.',label='|g>')\n",
    "ax.plot(I1_readout,Q1_readout,'+',color='orange',label='|e>')\n",
    "\n",
    "ax.plot(I0_readout[500],Q0_readout[500],'ro',label='|g>')\n",
    "ax.plot(I1_readout[500],Q1_readout[500],'ro',label='|e>')\n",
    "\n",
    "I_vec = [I1_readout[500],I0_readout[500]]\n",
    "Q_vec = [Q1_readout[500],Q0_readout[500]]\n",
    "\n",
    "ax.plot(I_vec,Q_vec,'r')\n",
    "\n",
    "plt.title('Complex Plot of Line Shape')\n",
    "plt.xlabel('I ($\\mu V$)')\n",
    "plt.ylabel('Q ($\\mu V$)')\n",
    "plt.legend()"
   ]
  },
  {
   "cell_type": "code",
   "execution_count": 53,
   "metadata": {},
   "outputs": [
    {
     "name": "stdout",
     "output_type": "stream",
     "text": [
      "The distance between the red dots is 0.0006942785436880214\n"
     ]
    }
   ],
   "source": [
    "def distance(x_vec,y_vec):\n",
    "    x = x_vec[1]-x_vec[0]\n",
    "    y = y_vec[1]-y_vec[0]\n",
    "    return np.sqrt(x**2+y**2)\n",
    "\n",
    "print('The distance between the red dots is',distance(I_vec,Q_vec))"
   ]
  },
  {
   "cell_type": "code",
   "execution_count": 54,
   "metadata": {},
   "outputs": [
    {
     "name": "stdout",
     "output_type": "stream",
     "text": [
      "(-0.0003857977862935513-0.00017930443573277444j)\n",
      "(-0.0006514397100545466+0.0003911574895028025j)\n"
     ]
    }
   ],
   "source": [
    "print(cY_list6[i_readout1[0]])\n",
    "print(cY_list6[i_readout1[0]+6700])"
   ]
  },
  {
   "cell_type": "code",
   "execution_count": 22,
   "metadata": {},
   "outputs": [],
   "source": [
    "re_val = []\n",
    "im_val = []\n",
    "def argand(complexNumber):\n",
    "    y = complexNumber\n",
    "    \n",
    "    plt.plot(np.real(y), np.imag(y), 'ro')\n",
    "    re_val.append(np.real(y))\n",
    "    im_val.append(np.imag(y))\n",
    "    \n",
    "    for i in range(0,(len(re_val)-1)):\n",
    "        x_vec = [re_val[i+1],re_val[i]]\n",
    "        y_vec = [im_val[i+1],im_val[i]]\n",
    "        \n",
    "        plt.plot(x_vec,y_vec,'r')"
   ]
  },
  {
   "cell_type": "code",
   "execution_count": 30,
   "metadata": {},
   "outputs": [
    {
     "data": {
      "text/plain": [
       "[<matplotlib.lines.Line2D at 0x195a0077f48>]"
      ]
     },
     "execution_count": 30,
     "metadata": {},
     "output_type": "execute_result"
    },
    {
     "data": {
      "image/png": "[encoded data removed]",
      "text/plain": [
       "<Figure size 432x432 with 1 Axes>"
      ]
     },
     "metadata": {
      "needs_background": "light"
     },
     "output_type": "display_data"
    }
   ],
   "source": [
    "fig, ax = plt.subplots(1,1,figsize=(6,6))\n",
    "ax.plot(np.real(cY_list6[i_readout1[0]]),np.imag(cY_list6[i_readout1[0]]),'o')\n",
    "ax.plot(np.real(cY_list6[i_readout1[0]+6700]),np.imag(cY_list6[i_readout1[0]+6700]),'o')"
   ]
  },
  {
   "cell_type": "code",
   "execution_count": null,
   "metadata": {},
   "outputs": [],
   "source": []
  }
 ],
 "metadata": {
  "kernelspec": {
   "display_name": "Python 3",
   "language": "python",
   "name": "python3"
  },
  "language_info": {
   "codemirror_mode": {
    "name": "ipython",
    "version": 3
   },
   "file_extension": ".py",
   "mimetype": "text/x-python",
   "name": "python",
   "nbconvert_exporter": "python",
   "pygments_lexer": "ipython3",
   "version": "3.8.3"
  }
 },
 "nbformat": 4,
 "nbformat_minor": 4
}
