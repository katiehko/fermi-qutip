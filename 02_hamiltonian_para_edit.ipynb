{
 "cells": [
  {
   "cell_type": "code",
   "execution_count": 114,
   "metadata": {},
   "outputs": [],
   "source": [
    "from qutip import *\n",
    "%matplotlib inline\n",
    "import matplotlib.pyplot as plt\n",
    "import numpy as np\n",
    "from math import pi"
   ]
  },
  {
   "cell_type": "code",
   "execution_count": 118,
   "metadata": {},
   "outputs": [],
   "source": [
    "\"\"\"PARAMETERS\"\"\"\n",
    "\n",
    "# h_bar = 1.0\n",
    "\n",
    "# frequencies\n",
    "wc = 5.0622 * 2 * pi  # already in GHz\n",
    "wa = 4.7206 * 2 * pi\n",
    "chi = 0.0052 * 2 * pi\n",
    "\n",
    "# coupling\n",
    "delta = abs(wc - wa)      # detuning\n",
    "g = np.sqrt(delta * chi)  # coupling strength that is consistent with chi\n",
    "\n",
    "kappa = 0.0  # cavity dissipation rate\n",
    "t1 = 800           # qubit relaxation rate\n",
    "t2 = 80            # qubit dephasing rate\n",
    "\n",
    "N = 2.0            # number of cavity fock states\n",
    "n_th_a = 0.063     # avg number of thermal bath excitation\n",
    "use_rwa = True\n",
    "\n",
    "tlist = np.linspace(0,25,101)  # 101 numbers, evenly spaced from 0 to 25"
   ]
  },
  {
   "cell_type": "code",
   "execution_count": 119,
   "metadata": {},
   "outputs": [
    {
     "ename": "ValueError",
     "evalue": "All dimensions must be >= 0.",
     "output_type": "error",
     "traceback": [
      "\u001b[1;31m---------------------------------------------------------------------------\u001b[0m",
      "\u001b[1;31mValueError\u001b[0m                                Traceback (most recent call last)",
      "\u001b[1;32m<ipython-input-119-a6978785adf4>\u001b[0m in \u001b[0;36m<module>\u001b[1;34m\u001b[0m\n\u001b[0;32m      1\u001b[0m \u001b[1;31m# initial state\u001b[0m\u001b[1;33m\u001b[0m\u001b[1;33m\u001b[0m\u001b[1;33m\u001b[0m\u001b[0m\n\u001b[1;32m----> 2\u001b[1;33m \u001b[0mpsi0\u001b[0m \u001b[1;33m=\u001b[0m \u001b[0mtensor\u001b[0m\u001b[1;33m(\u001b[0m\u001b[0mbasis\u001b[0m\u001b[1;33m(\u001b[0m\u001b[0mN\u001b[0m\u001b[1;33m,\u001b[0m\u001b[1;36m0\u001b[0m\u001b[1;33m)\u001b[0m\u001b[1;33m,\u001b[0m \u001b[0mbasis\u001b[0m\u001b[1;33m(\u001b[0m\u001b[1;36m2\u001b[0m\u001b[1;33m,\u001b[0m\u001b[1;36m1\u001b[0m\u001b[1;33m)\u001b[0m\u001b[1;33m)\u001b[0m  \u001b[1;31m# start with an excited atom\u001b[0m\u001b[1;33m\u001b[0m\u001b[1;33m\u001b[0m\u001b[0m\n\u001b[0m\u001b[0;32m      3\u001b[0m \u001b[1;31m# fock state ket vector: basis(N,#m), #m = level containing excitation\u001b[0m\u001b[1;33m\u001b[0m\u001b[1;33m\u001b[0m\u001b[1;33m\u001b[0m\u001b[0m\n\u001b[0;32m      4\u001b[0m \u001b[1;31m# tensor product: tensor()\u001b[0m\u001b[1;33m\u001b[0m\u001b[1;33m\u001b[0m\u001b[1;33m\u001b[0m\u001b[0m\n\u001b[0;32m      5\u001b[0m \u001b[1;33m\u001b[0m\u001b[0m\n",
      "\u001b[1;32m~\\anaconda3\\lib\\site-packages\\qutip\\states.py\u001b[0m in \u001b[0;36mbasis\u001b[1;34m(dimensions, n, offset)\u001b[0m\n\u001b[0;32m    140\u001b[0m                                   _promote_to_zero_list(offset, n_dimensions))]\n\u001b[0;32m    141\u001b[0m     \u001b[1;32mif\u001b[0m \u001b[0many\u001b[0m\u001b[1;33m(\u001b[0m\u001b[1;33m(\u001b[0m\u001b[1;32mnot\u001b[0m \u001b[0misinstance\u001b[0m\u001b[1;33m(\u001b[0m\u001b[0mx\u001b[0m\u001b[1;33m,\u001b[0m \u001b[0mnumbers\u001b[0m\u001b[1;33m.\u001b[0m\u001b[0mIntegral\u001b[0m\u001b[1;33m)\u001b[0m\u001b[1;33m)\u001b[0m \u001b[1;32mor\u001b[0m \u001b[0mx\u001b[0m \u001b[1;33m<\u001b[0m \u001b[1;36m0\u001b[0m \u001b[1;32mfor\u001b[0m \u001b[0mx\u001b[0m \u001b[1;32min\u001b[0m \u001b[0mdimensions\u001b[0m\u001b[1;33m)\u001b[0m\u001b[1;33m:\u001b[0m\u001b[1;33m\u001b[0m\u001b[1;33m\u001b[0m\u001b[0m\n\u001b[1;32m--> 142\u001b[1;33m         \u001b[1;32mraise\u001b[0m \u001b[0mValueError\u001b[0m\u001b[1;33m(\u001b[0m\u001b[1;34m\"All dimensions must be >= 0.\"\u001b[0m\u001b[1;33m)\u001b[0m\u001b[1;33m\u001b[0m\u001b[1;33m\u001b[0m\u001b[0m\n\u001b[0m\u001b[0;32m    143\u001b[0m     \u001b[1;32mif\u001b[0m \u001b[1;32mnot\u001b[0m \u001b[0mall\u001b[0m\u001b[1;33m(\u001b[0m\u001b[1;36m0\u001b[0m \u001b[1;33m<=\u001b[0m \u001b[0mn\u001b[0m \u001b[1;33m<\u001b[0m \u001b[0mdimension\u001b[0m \u001b[1;32mfor\u001b[0m \u001b[0mn\u001b[0m\u001b[1;33m,\u001b[0m \u001b[0mdimension\u001b[0m \u001b[1;32min\u001b[0m \u001b[0mzip\u001b[0m\u001b[1;33m(\u001b[0m\u001b[0mns\u001b[0m\u001b[1;33m,\u001b[0m \u001b[0mdimensions\u001b[0m\u001b[1;33m)\u001b[0m\u001b[1;33m)\u001b[0m\u001b[1;33m:\u001b[0m\u001b[1;33m\u001b[0m\u001b[1;33m\u001b[0m\u001b[0m\n\u001b[0;32m    144\u001b[0m         raise ValueError(\"All basis indices must be \"\n",
      "\u001b[1;31mValueError\u001b[0m: All dimensions must be >= 0."
     ]
    }
   ],
   "source": [
    "# initial state\n",
    "psi0 = tensor(basis(N,0), basis(2,1))  # start with an excited atom\n",
    "# fock state ket vector: basis(N,#m), #m = level containing excitation\n",
    "# tensor product: tensor()\n",
    "\n",
    "# cavity destruction operator\n",
    "a = tensor(destroy(N), qeye(2))\n",
    "# lowering (destruction) operator: destroy(N)\n",
    "# identity: qeye(N)\n",
    "\n",
    "# operator for qubit\n",
    "sm = tensor(qeye(N), destroy(2))\n",
    "\n",
    "# Hamiltonian\n",
    "if use_rwa:\n",
    "    H = wc * a.dag() * a + wa * sm.dag() * sm + g * (a.dag() * sm + a * sm.dag())\n",
    "else:\n",
    "    H = wc * a.dag() * a + wa * sm.dag() * sm + ga * (a.dag() + a) * (sm + sm.dag())"
   ]
  },
  {
   "cell_type": "code",
   "execution_count": 100,
   "metadata": {},
   "outputs": [],
   "source": [
    "# collapse operators that describe dissipation\n",
    "\n",
    "c_ops = []\n",
    "\n",
    "# cavity relaxation\n",
    "rate = kappa * (1 + n_th_a)\n",
    "if rate > 0.0:\n",
    "    c_ops.append(np.sqrt(rate) * a)\n",
    "    \n",
    "# cavity excitation, if temperature > 0\n",
    "rate = kappa * n_th_a\n",
    "if rate > 0.0:\n",
    "    c_ops.append(np.sqrt(rate) * a.dag())\n",
    "    \n",
    "# qubit relaxation\n",
    "rate = 1/t1\n",
    "# c_ops.append(np.sqrt(rate) * sm)\n",
    "c_ops.append(np.sqrt(rate * (1+n_th_a)) * sm)\n",
    "c_ops.append(np.sqrt(rate * n_th_a) * sm.dag())\n",
    "# c_ops.append(np.sqrt(t2) * sz)"
   ]
  },
  {
   "cell_type": "code",
   "execution_count": 101,
   "metadata": {},
   "outputs": [],
   "source": [
    "# evolve system, request that the expectation values of a.dag()*a and sm*sm.dag() are returned by the solver \n",
    "# passing the list [a.dag()*a, sm.dag()*sm] as the fifth argument to the solver\n",
    "\n",
    "output = mesolve(H, psi0, tlist, c_ops, [a.dag() * a, sm.dag() * sm])"
   ]
  },
  {
   "cell_type": "code",
   "execution_count": 102,
   "metadata": {},
   "outputs": [
    {
     "data": {
      "text/plain": [
       "Text(0.5, 1.0, 'Vacuum Rabi Oscillations')"
      ]
     },
     "execution_count": 102,
     "metadata": {},
     "output_type": "execute_result"
    },
    {
     "data": {
      "image/png": "[encoded data removed]",
      "text/plain": [
       "<Figure size 720x432 with 1 Axes>"
      ]
     },
     "metadata": {
      "needs_background": "light"
     },
     "output_type": "display_data"
    }
   ],
   "source": [
    "n_c = output.expect[0]\n",
    "n_a = output.expect[1]\n",
    "\n",
    "fig, axes = plt.subplots(1,1,figsize=(10,6))\n",
    "\n",
    "axes.plot(tlist,n_c,label=\"Cavity\")\n",
    "axes.plot(tlist,n_a,label=\"Atom excited state\")\n",
    "axes.legend(loc=0)\n",
    "axes.set_xlabel(\"Time (ns)\")\n",
    "axes.set_ylabel(\"Occupation probability\")\n",
    "axes.set_title(\"Vacuum Rabi Oscillations\")"
   ]
  },
  {
   "cell_type": "code",
   "execution_count": 72,
   "metadata": {},
   "outputs": [
    {
     "data": {
      "text/plain": [
       "'n_c = output.expect[0]\\nn_a = output.expect[1]\\n\\n# calculation of power spectrum\\nwlist = np.linspace(0.25, 1.75, 200) * 2 * np.pi\\nspec = spectrum(H, wlist2, c_ops, a.dag(), a)\\n\\nfig, axes = plt.subplots(1,1,figsize=(10,6))\\n\\naxes.plot(wlist/(2*pi),spec,label=\"Cavity\")\\n# axes.plot(wlist,spec,label=\"Atom excited state\")\\naxes.legend(loc=0)\\naxes.set_xlabel(\"Frequency\")\\naxes.set_ylabel(\"Power spectrum\")\\naxes.set_title(\"Vacuum Rabi Oscillations\")\\naxes.set_xlim(wlist[0]/(2*pi), wlist[-1]/(2*pi))'"
      ]
     },
     "execution_count": 72,
     "metadata": {},
     "output_type": "execute_result"
    }
   ],
   "source": [
    "\"\"\"n_c = output.expect[0]\n",
    "n_a = output.expect[1]\n",
    "\n",
    "# calculation of power spectrum\n",
    "wlist = np.linspace(0.25, 1.75, 200) * 2 * np.pi\n",
    "spec = spectrum(H, wlist2, c_ops, a.dag(), a)\n",
    "\n",
    "fig, axes = plt.subplots(1,1,figsize=(10,6))\n",
    "\n",
    "axes.plot(wlist/(2*pi),spec,label=\"Cavity\")\n",
    "# axes.plot(wlist,spec,label=\"Atom excited state\")\n",
    "axes.legend(loc=0)\n",
    "axes.set_xlabel(\"Frequency\")\n",
    "axes.set_ylabel(\"Power spectrum\")\n",
    "axes.set_title(\"Vacuum Rabi Oscillations\")\n",
    "axes.set_xlim(wlist[0]/(2*pi), wlist[-1]/(2*pi))\"\"\""
   ]
  },
  {
   "cell_type": "code",
   "execution_count": null,
   "metadata": {},
   "outputs": [],
   "source": []
  }
 ],
 "metadata": {
  "kernelspec": {
   "display_name": "Python 3",
   "language": "python",
   "name": "python3"
  },
  "language_info": {
   "codemirror_mode": {
    "name": "ipython",
    "version": 3
   },
   "file_extension": ".py",
   "mimetype": "text/x-python",
   "name": "python",
   "nbconvert_exporter": "python",
   "pygments_lexer": "ipython3",
   "version": "3.7.6"
  }
 },
 "nbformat": 4,
 "nbformat_minor": 4
}
